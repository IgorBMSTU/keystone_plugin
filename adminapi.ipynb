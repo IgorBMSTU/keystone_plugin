{
 "cells": [
  {
   "cell_type": "code",
   "execution_count": 1,
   "metadata": {
    "collapsed": true
   },
   "outputs": [],
   "source": [
    "import requests"
   ]
  },
  {
   "cell_type": "code",
   "execution_count": 45,
   "metadata": {
    "collapsed": true
   },
   "outputs": [
    {
     "data": {
      "text/plain": [
       "{u'data': [], u'total': 0}"
      ]
     },
     "execution_count": 45,
     "metadata": {},
     "output_type": "execute_result"
    }
   ],
   "source": [
    "# res = requests.get('http://localhost:8001/')\n",
    "# res = requests.get('http://localhost:8001/status')\n",
    "# res = requests.get('http://localhost:8001/apis/new_mockbin')\n",
    "# res = requests.get('http://localhost:8001/apis/')\n",
    "# res = requests.patch('http://localhost:8001/apis/new_mockbin', {'name':'mockbin'})\n",
    "# res = requests.get('http://localhost:8001/consumers', {'username': 'valerius'})\n",
    "# res = requests.get('http://localhost:8001/plugins/2d98ddef-cb40-4636-bfa5-6314700bdf05')\n",
    "# res = requests.get('http://localhost:8001/plugins/enabled')\n",
    "# res = requests.get('http://localhost:8001/plugins/schema/keystone')\n",
    "# res = requests.post('http://localhost:8001/apis/mockbin/plugins', {'name' : 'key-auth'})\n",
    "# res = requests.get('http://localhost:8001/certificates')\n",
    "# res = requests.get('http://localhost:8001/snis')\n",
    "# res = requests.get('http://localhost:8001/upstreams')\n",
    "res.json()"
   ]
  },
  {
   "cell_type": "code",
   "execution_count": 39,
   "metadata": {
    "collapsed": true
   },
   "outputs": [
    {
     "name": "stdout",
     "output_type": "stream",
     "text": [
      "{u'key_names': [u'function'], u'hide_credentials': False, u'run_on_preflight': True, u'anonymous': u'', u'key_in_body': False}\n{u'key_names': {u'default': u'function', u'required': True, u'type': u'array', u'func': u'function'}, u'hide_credentials': {u'default': False, u'type': u'boolean'}, u'run_on_preflight': {u'default': True, u'type': u'boolean'}, u'anonymous': {u'default': u'', u'type': u'string', u'func': u'function'}, u'key_in_body': {u'default': False, u'type': u'boolean'}}\n"
     ]
    }
   ],
   "source": [
    "res = requests.get('http://localhost:8001/plugins/2d98ddef-cb40-4636-bfa5-6314700bdf05')\n",
    "print res.json()['config']\n",
    "res = requests.get('http://localhost:8001/plugins/schema/key-auth')\n",
    "print res.json()['fields']"
   ]
  },
  {
   "cell_type": "code",
   "execution_count": 6,
   "metadata": {
    "collapsed": true
   },
   "outputs": [
    {
     "data": {
      "text/plain": [
       "{u'created_at': 1508930011289,\n u'http_if_terminated': False,\n u'https_only': False,\n u'id': u'948f3fa8-d981-42c3-9200-2d391bb73cda',\n u'name': u'mockbin',\n u'preserve_host': False,\n u'retries': 5,\n u'strip_uri': True,\n u'upstream_connect_timeout': 60000,\n u'upstream_read_timeout': 60000,\n u'upstream_send_timeout': 60000,\n u'upstream_url': u'http://mockbin.org/request',\n u'uris': [u'/']}"
      ]
     },
     "execution_count": 6,
     "metadata": {},
     "output_type": "execute_result"
    }
   ],
   "source": [
    ""
   ]
  }
 ],
 "metadata": {
  "kernelspec": {
   "display_name": "Python 2",
   "language": "python",
   "name": "python2"
  },
  "language_info": {
   "codemirror_mode": {
    "name": "ipython",
    "version": 2
   },
   "file_extension": ".py",
   "mimetype": "text/x-python",
   "name": "python",
   "nbconvert_exporter": "python",
   "pygments_lexer": "ipython2",
   "version": "2.7.6"
  }
 },
 "nbformat": 4,
 "nbformat_minor": 0
}
